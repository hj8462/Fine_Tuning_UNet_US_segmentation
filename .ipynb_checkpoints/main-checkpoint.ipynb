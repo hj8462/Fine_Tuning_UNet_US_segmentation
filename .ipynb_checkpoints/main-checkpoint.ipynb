{
 "cells": [
  {
   "cell_type": "markdown",
   "metadata": {},
   "source": [
    "define Unet"
   ]
  },
  {
   "cell_type": "code",
   "execution_count": 35,
   "metadata": {},
   "outputs": [],
   "source": [
    "import torch\n",
    "import torch.nn as nn\n",
    "import torch.nn.functional as F"
   ]
  },
  {
   "cell_type": "code",
   "execution_count": 81,
   "metadata": {},
   "outputs": [],
   "source": []
  },
  {
   "cell_type": "code",
   "execution_count": 130,
   "metadata": {},
   "outputs": [],
   "source": [
    "def Unet_conv(in_channels, out_channels) :\n",
    "    return nn.Sequential(\n",
    "        nn.Conv2d(in_channels, out_channels, 3, padding=1),\n",
    "        nn.ReLU(inplace = True), \n",
    "        # inplace = True : input으로 들어온 것 자체를 수정하겠다는 말\n",
    "        # 메모리 usage가 좋아지지만 input을 없앤다는 단점 존재\n",
    "        nn.Conv2d(out_channels, out_channels, 3, padding=1),\n",
    "        nn.ReLU(inplace=True)\n",
    "    )\n",
    "\n",
    "class Unet(nn.Module):\n",
    "    def __init__(self) :\n",
    "        super().__init__()\n",
    "        \n",
    "        # Contracting path\n",
    "        self.conv_down1 = Unet_conv(3, 64)\n",
    "        self.conv_down2 = Unet_conv(64, 128)\n",
    "        self.conv_down3 = Unet_conv(128, 256)\n",
    "        self.conv_down4 = Unet_conv(256, 512)\n",
    "        self.conv_down5 = Unet_conv(512, 1024)\n",
    "\n",
    "        \n",
    "        self.maxpool = nn.MaxPool2d(kernel_size = 2)\n",
    "        self.upsample = nn.Upsample(scale_factor = 2, mode = 'bilinear', align_corners=True)\n",
    "        \n",
    "\n",
    "        # Expansive path\n",
    "        self.conv_up4 = Unet_conv(512+1024, 512)\n",
    "        self.conv_up3 = Unet_conv(256+512, 256)\n",
    "        self.conv_up2 = Unet_conv(128+256, 128)\n",
    "        self.conv_up1 = Unet_conv(64+128, 64)\n",
    "        self.final_layer = nn.Conv2d(64, 2, 1)\n",
    "    \n",
    "    \n",
    "        \n",
    "    def forward(self, x):\n",
    "            # Expansive 과정에서 copy and crop을 위해 conv1,2,3,4를 따로 정의\n",
    "            \n",
    "            # Contracting\n",
    "            conv1 = self.conv_down1(x)\n",
    "            x = self.maxpool(conv1)\n",
    "            \n",
    "            conv2 = self.conv_down2(x)\n",
    "            x = self.maxpool(conv2)\n",
    "            \n",
    "            conv3 = self.conv_down3(x)\n",
    "            x = self.maxpool(conv3)\n",
    "            \n",
    "            conv4 = self.conv_down4(x)\n",
    "            x = self.maxpool(conv4)\n",
    "            \n",
    "            #Expansive\n",
    "            x = self.conv_down5(x)\n",
    "            \n",
    "            x = self.upsample(x)\n",
    "            x = torch.cat([x, conv4], dim = 1)\n",
    "            \n",
    "            x = self.conv_up4(x)\n",
    "            x = self.upsample(x)\n",
    "            x = torch.cat([x, conv3], dim = 1)\n",
    "            \n",
    "            x = self.conv_up3(x)\n",
    "            x = self.upsample(x)\n",
    "            x = torch.cat([x, conv2], dim = 1)\n",
    "            \n",
    "            x = self.conv_up2(x)\n",
    "            x = self.upsample(x)\n",
    "            x = torch.cat([x, conv1], dim = 1)\n",
    "            \n",
    "            x = self.conv_up1(x)\n",
    "            \n",
    "            out = self.final_layer(x)\n",
    "            \n",
    "            return out\n",
    "        "
   ]
  },
  {
   "cell_type": "code",
   "execution_count": 131,
   "metadata": {
    "scrolled": true
   },
   "outputs": [
    {
     "name": "stdout",
     "output_type": "stream",
     "text": [
      "----------------------------------------------------------------\n",
      "        Layer (type)               Output Shape         Param #\n",
      "================================================================\n",
      "            Conv2d-1           [-1, 64, 64, 64]           1,792\n",
      "              ReLU-2           [-1, 64, 64, 64]               0\n",
      "            Conv2d-3           [-1, 64, 64, 64]          36,928\n",
      "              ReLU-4           [-1, 64, 64, 64]               0\n",
      "         MaxPool2d-5           [-1, 64, 32, 32]               0\n",
      "            Conv2d-6          [-1, 128, 32, 32]          73,856\n",
      "              ReLU-7          [-1, 128, 32, 32]               0\n",
      "            Conv2d-8          [-1, 128, 32, 32]         147,584\n",
      "              ReLU-9          [-1, 128, 32, 32]               0\n",
      "        MaxPool2d-10          [-1, 128, 16, 16]               0\n",
      "           Conv2d-11          [-1, 256, 16, 16]         295,168\n",
      "             ReLU-12          [-1, 256, 16, 16]               0\n",
      "           Conv2d-13          [-1, 256, 16, 16]         590,080\n",
      "             ReLU-14          [-1, 256, 16, 16]               0\n",
      "        MaxPool2d-15            [-1, 256, 8, 8]               0\n",
      "           Conv2d-16            [-1, 512, 8, 8]       1,180,160\n",
      "             ReLU-17            [-1, 512, 8, 8]               0\n",
      "           Conv2d-18            [-1, 512, 8, 8]       2,359,808\n",
      "             ReLU-19            [-1, 512, 8, 8]               0\n",
      "        MaxPool2d-20            [-1, 512, 4, 4]               0\n",
      "           Conv2d-21           [-1, 1024, 4, 4]       4,719,616\n",
      "             ReLU-22           [-1, 1024, 4, 4]               0\n",
      "           Conv2d-23           [-1, 1024, 4, 4]       9,438,208\n",
      "             ReLU-24           [-1, 1024, 4, 4]               0\n",
      "         Upsample-25           [-1, 1024, 8, 8]               0\n",
      "           Conv2d-26            [-1, 512, 8, 8]       7,078,400\n",
      "             ReLU-27            [-1, 512, 8, 8]               0\n",
      "           Conv2d-28            [-1, 512, 8, 8]       2,359,808\n",
      "             ReLU-29            [-1, 512, 8, 8]               0\n",
      "         Upsample-30          [-1, 512, 16, 16]               0\n",
      "           Conv2d-31          [-1, 256, 16, 16]       1,769,728\n",
      "             ReLU-32          [-1, 256, 16, 16]               0\n",
      "           Conv2d-33          [-1, 256, 16, 16]         590,080\n",
      "             ReLU-34          [-1, 256, 16, 16]               0\n",
      "         Upsample-35          [-1, 256, 32, 32]               0\n",
      "           Conv2d-36          [-1, 128, 32, 32]         442,496\n",
      "             ReLU-37          [-1, 128, 32, 32]               0\n",
      "           Conv2d-38          [-1, 128, 32, 32]         147,584\n",
      "             ReLU-39          [-1, 128, 32, 32]               0\n",
      "         Upsample-40          [-1, 128, 64, 64]               0\n",
      "           Conv2d-41           [-1, 64, 64, 64]         110,656\n",
      "             ReLU-42           [-1, 64, 64, 64]               0\n",
      "           Conv2d-43           [-1, 64, 64, 64]          36,928\n",
      "             ReLU-44           [-1, 64, 64, 64]               0\n",
      "           Conv2d-45            [-1, 2, 64, 64]             130\n",
      "================================================================\n",
      "Total params: 31,379,010\n",
      "Trainable params: 31,379,010\n",
      "Non-trainable params: 0\n",
      "----------------------------------------------------------------\n",
      "Input size (MB): 0.05\n",
      "Forward/backward pass size (MB): 39.00\n",
      "Params size (MB): 119.70\n",
      "Estimated Total Size (MB): 158.75\n",
      "----------------------------------------------------------------\n"
     ]
    }
   ],
   "source": [
    "from torchsummary import summary\n",
    "\n",
    "device = torch.device('cuda' if torch.cuda.is_available() else 'cpu')\n",
    "\n",
    "model = Unet()\n",
    "model = model.to(device)\n",
    "\n",
    "summary(model, input_size = (3, 64, 64))"
   ]
  },
  {
   "cell_type": "code",
   "execution_count": 133,
   "metadata": {},
   "outputs": [
    {
     "data": {
      "text/plain": [
       "torch.Size([32, 32])"
      ]
     },
     "execution_count": 133,
     "metadata": {},
     "output_type": "execute_result"
    }
   ],
   "source": [
    "input = torch.Tensor(32, 32)\n",
    "input.size()"
   ]
  },
  {
   "cell_type": "code",
   "execution_count": null,
   "metadata": {},
   "outputs": [],
   "source": []
  },
  {
   "cell_type": "code",
   "execution_count": null,
   "metadata": {},
   "outputs": [],
   "source": []
  }
 ],
 "metadata": {
  "kernelspec": {
   "display_name": "Python 3",
   "language": "python",
   "name": "python3"
  },
  "language_info": {
   "codemirror_mode": {
    "name": "ipython",
    "version": 3
   },
   "file_extension": ".py",
   "mimetype": "text/x-python",
   "name": "python",
   "nbconvert_exporter": "python",
   "pygments_lexer": "ipython3",
   "version": "3.8.5"
  }
 },
 "nbformat": 4,
 "nbformat_minor": 4
}
